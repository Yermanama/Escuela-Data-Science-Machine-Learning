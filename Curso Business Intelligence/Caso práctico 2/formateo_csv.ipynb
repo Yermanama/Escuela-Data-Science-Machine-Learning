{
 "cells": [
  {
   "cell_type": "code",
   "execution_count": 1,
   "metadata": {},
   "outputs": [],
   "source": [
    "import pandas as pd"
   ]
  },
  {
   "cell_type": "code",
   "execution_count": 5,
   "metadata": {},
   "outputs": [],
   "source": [
    "ruta_archivo = r\"C:\\Users\\Usuario\\Desktop\\Programación\\Escuela Data Science y Machine Learning\\Curso Business Intelligence\\Caso práctico business intelligence.csv\"\n",
    "with open(ruta_archivo, \"r\") as archivo:\n",
    "    df = pd.read_csv(archivo, sep=\",\")\n"
   ]
  },
  {
   "cell_type": "code",
   "execution_count": 7,
   "metadata": {},
   "outputs": [],
   "source": [
    "df.to_excel(r\"C:\\Users\\Usuario\\Desktop\\Programación\\Escuela Data Science y Machine Learning\\Curso Business Intelligence\\Caso práctico business intelligence.xlsx\", index=False)"
   ]
  },
  {
   "cell_type": "code",
   "execution_count": null,
   "metadata": {},
   "outputs": [],
   "source": []
  }
 ],
 "metadata": {
  "kernelspec": {
   "display_name": "base",
   "language": "python",
   "name": "python3"
  },
  "language_info": {
   "codemirror_mode": {
    "name": "ipython",
    "version": 3
   },
   "file_extension": ".py",
   "mimetype": "text/x-python",
   "name": "python",
   "nbconvert_exporter": "python",
   "pygments_lexer": "ipython3",
   "version": "3.9.13"
  },
  "orig_nbformat": 4
 },
 "nbformat": 4,
 "nbformat_minor": 2
}
