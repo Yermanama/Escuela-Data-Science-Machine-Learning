{
 "cells": [
  {
   "cell_type": "code",
   "execution_count": 12,
   "metadata": {},
   "outputs": [],
   "source": [
    "#Importamos las liberias necesarias\n",
    "\n",
    "import numpy as np\n",
    "from numpy.random import binomial\n",
    "from scipy.stats import binom\n",
    "from math import factorial\n",
    "import matplotlib.pyplot as plt\n",
    "from fractions import Fraction\n"
   ]
  },
  {
   "attachments": {},
   "cell_type": "markdown",
   "metadata": {},
   "source": [
    "## Secuencias de eventos tipo Bernoulli\n",
    "\n",
    "$$\n",
    "P(k, n; p) = {n \\choose k} p^k (1-p)^{n-k} = \\frac{n!}{k!(n-k)!}p^k (1-p)^{n-k}\n",
    "$$"
   ]
  },
  {
   "cell_type": "code",
   "execution_count": 3,
   "metadata": {},
   "outputs": [],
   "source": [
    "#Vamos a escribir una funcio que nos calculo los resulatos de la función de tipo Bernoulli\n",
    "\n",
    "def bernoulli(p, n, k):\n",
    "    return (factorial(n)/(factorial(k)*factorial(n-k)))*pow(p,k)*pow(1-p,n-k)"
   ]
  },
  {
   "cell_type": "code",
   "execution_count": 5,
   "metadata": {},
   "outputs": [
    {
     "data": {
      "text/plain": [
       "0.3125"
      ]
     },
     "execution_count": 5,
     "metadata": {},
     "output_type": "execute_result"
    }
   ],
   "source": [
    "#Vamos con un ejemplo, en el que queremos calcular la probabilidad de que salgan 3 caras en 5 lanzamientos de una moneda\n",
    "\n",
    "my_binomial = bernoulli(0.5, 5, 3)\n",
    "my_binomial"
   ]
  },
  {
   "cell_type": "code",
   "execution_count": 6,
   "metadata": {},
   "outputs": [
    {
     "data": {
      "text/plain": [
       "0.3124999999999998"
      ]
     },
     "execution_count": 6,
     "metadata": {},
     "output_type": "execute_result"
    }
   ],
   "source": [
    "#Todo lo anterior lo hemos hecho a \"Mano\", ahora vamos a hacerlo con la libreria de scipy\n",
    "\n",
    "#Vamos a crear el objeto binomial, en el que le pasamos como parametros el numero de lanzamientos y la probabilidad de que salga cara\n",
    "\n",
    "my_binomial = binom(5, 0.5)\n",
    "\n",
    "#Vamos a calcular la probabilidad de que salgan 3 caras en 5 lanzamientos de una moneda, por lo que le pasamos que vamos a ver cuantas veces salimos exitosos\n",
    "#Para ello usamos el atributo pmf, que significa \"Probability Mass Function\"\n",
    "\n",
    "my_binomial.pmf(3)\n"
   ]
  },
  {
   "cell_type": "code",
   "execution_count": 13,
   "metadata": {},
   "outputs": [
    {
     "name": "stdout",
     "output_type": "stream",
     "text": [
      "7/8\n"
     ]
    }
   ],
   "source": [
    "#Ahora lo que vamos a hacer es obtener la probabilidad de que nos caiga cara 2 veces en 3 oportunidades\n",
    "#Para ello vamos a usar el atributo cdf, que significa \"Cumulative Distribution Function\" en español \"Función de Distribución Acumulada\"\n",
    "#La línea de código nos dice que calcule la probabilidad acumulada de que caiga en cara dos veces\n",
    "\n",
    "my_binomial = binom(3, 0.5)\n",
    "probabilidad = Fraction(my_binomial.cdf(2))\n",
    "print(probabilidad)"
   ]
  },
  {
   "attachments": {},
   "cell_type": "markdown",
   "metadata": {},
   "source": [
    "#### Ahora vamos a usar generadores aleatorios de números\n",
    "- Los generadores aleatorios tienen como propósito simular muestras de datos que resultarían de muestreos en la vida real de procesos como lanzar una moneda, tirar un dado, etc.\n",
    "\n"
   ]
  },
  {
   "cell_type": "code",
   "execution_count": 17,
   "metadata": {},
   "outputs": [
    {
     "data": {
      "text/plain": [
       "48"
      ]
     },
     "execution_count": 17,
     "metadata": {},
     "output_type": "execute_result"
    }
   ],
   "source": [
    "#Queremos hacer una simulación de 100 lanzamientos de moneda equilibrada\n",
    "#Pero vamos a ejecutar esta celda varias veces para observar como varían los datos\n",
    "\n",
    "probalidad = p = 0.5\n",
    "n = 3\n",
    "binomial(n, p)"
   ]
  },
  {
   "cell_type": "code",
   "execution_count": 18,
   "metadata": {},
   "outputs": [],
   "source": [
    "#Para luego poder visualizar los datos, vamos a crear una lista con los datos obtenidos\n",
    "\n",
    "arr = []\n",
    "for i in range(1000):\n",
    "    arr.append(binomial(n, p))"
   ]
  },
  {
   "cell_type": "code",
   "execution_count": 38,
   "metadata": {},
   "outputs": [
    {
     "data": {
      "image/png": "[encoded data removed]",
      "text/plain": [
       "<Figure size 640x480 with 1 Axes>"
      ]
     },
     "metadata": {},
     "output_type": "display_data"
    }
   ],
   "source": [
    "#Y para visuzalizar los datos de una manera más sencilla, vamos a definir una función que nos permita hacerlo\n",
    "\n",
    "def plot_histogram(numero_intentos):\n",
    "    valores_cara = [0,1,2,3]\n",
    "    array = []\n",
    "    for i in range(numero_intentos):\n",
    "        array.append(binomial(n, p))\n",
    "    lista_sim = np.unique(array, return_counts=True)[1]/len(array)\n",
    "    lista_teo = [binom(3, 0.5).pmf(i) for i in valores_cara]\n",
    "    plt.bar(valores_cara, lista_sim[1], color='blue', alpha=0.5, label='Simulación')\n",
    "    plt.bar(valores_cara, lista_teo, color='red', alpha=0.5, label='Teoría')\n",
    "    plt.legend()\n",
    "    plt.show()\n",
    "\n",
    "#Y ahora vamos a ejecutar la función para ver los resultados\n",
    "\n",
    "plot_histogram(20000)"
   ]
  },
  {
   "cell_type": "code",
   "execution_count": null,
   "metadata": {},
   "outputs": [],
   "source": []
  }
 ],
 "metadata": {
  "kernelspec": {
   "display_name": "Python 3",
   "language": "python",
   "name": "python3"
  },
  "language_info": {
   "codemirror_mode": {
    "name": "ipython",
    "version": 3
   },
   "file_extension": ".py",
   "mimetype": "text/x-python",
   "name": "python",
   "nbconvert_exporter": "python",
   "pygments_lexer": "ipython3",
   "version": "3.11.2"
  },
  "orig_nbformat": 4
 },
 "nbformat": 4,
 "nbformat_minor": 2
}
