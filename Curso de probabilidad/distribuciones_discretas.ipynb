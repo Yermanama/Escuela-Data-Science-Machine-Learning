{
 "cells": [
  {
   "cell_type": "code",
   "execution_count": 21,
   "metadata": {},
   "outputs": [],
   "source": [
    "from math import factorial"
   ]
  },
  {
   "cell_type": "code",
   "execution_count": 15,
   "metadata": {},
   "outputs": [],
   "source": [
    "#Defining the binomial distribution\n",
    "def binomial(n, p, k):\n",
    "    return (factorial(n)/(factorial(k)*factorial(n-k)))*(p**k)*((1-p)**(n-k))"
   ]
  },
  {
   "cell_type": "code",
   "execution_count": 20,
   "metadata": {},
   "outputs": [
    {
     "name": "stdout",
     "output_type": "stream",
     "text": [
      "0.0537109375\n",
      "0.623046875\n",
      "0.623046875\n"
     ]
    }
   ],
   "source": [
    "#Exercise 1\n",
    "print(binomial(k=3,n=12,p=0.5))\n",
    "\n",
    "#Exercise 2\n",
    "i = 0\n",
    "total_probability = 0\n",
    "for i in range(0, 6):\n",
    "    total_probability += binomial(k=i, n=10, p=0.5)\n",
    "\n",
    "print(total_probability)\n",
    "\n",
    "#Exercise 3\n",
    "i = 0\n",
    "total_probability = 0\n",
    "for i in range(0, 6):\n",
    "    total_probability += binomial(k=i, n=10, p=0.5)\n",
    "\n",
    "print(total_probability)"
   ]
  },
  {
   "cell_type": "code",
   "execution_count": null,
   "metadata": {},
   "outputs": [],
   "source": []
  }
 ],
 "metadata": {
  "kernelspec": {
   "display_name": "Python 3",
   "language": "python",
   "name": "python3"
  },
  "language_info": {
   "codemirror_mode": {
    "name": "ipython",
    "version": 3
   },
   "file_extension": ".py",
   "mimetype": "text/x-python",
   "name": "python",
   "nbconvert_exporter": "python",
   "pygments_lexer": "ipython3",
   "version": "3.11.2"
  },
  "orig_nbformat": 4
 },
 "nbformat": 4,
 "nbformat_minor": 2
}
