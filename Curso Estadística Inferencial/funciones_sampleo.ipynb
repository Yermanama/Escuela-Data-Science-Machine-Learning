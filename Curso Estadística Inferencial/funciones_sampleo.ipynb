{
 "cells": [
  {
   "cell_type": "code",
   "execution_count": 1,
   "metadata": {},
   "outputs": [],
   "source": [
    "#Primero importamos las librerías que vamos a necesitar\n",
    "import pandas as pd\n",
    "import numpy as np\n",
    "import random"
   ]
  },
  {
   "cell_type": "code",
   "execution_count": 5,
   "metadata": {},
   "outputs": [],
   "source": [
    "#Importamos los datos que tenemos en el pc a un dataframe de pandas\n",
    "df = pd.read_csv(r\"econdata.csv\")"
   ]
  },
  {
   "attachments": {},
   "cell_type": "markdown",
   "metadata": {},
   "source": [
    "### Muestreo aleatorio simple\n",
    "\n",
    "- Todas los datos tienen la misma probabilidad de ser seleccionados"
   ]
  },
  {
   "cell_type": "code",
   "execution_count": 4,
   "metadata": {},
   "outputs": [],
   "source": [
    "sampleo_simple_50 = df.sample(n=50)"
   ]
  },
  {
   "attachments": {},
   "cell_type": "markdown",
   "metadata": {},
   "source": [
    "### Muestreo sistemático\n",
    "\n",
    "- Primero se determina un intervalo al azar, y después se van eligiendo los datos según dicho intervalo"
   ]
  },
  {
   "cell_type": "code",
   "execution_count": 7,
   "metadata": {},
   "outputs": [],
   "source": [
    "def sampleo_sistematico(dataframe, steps): #Primero vamos a definir una función que acepte un dataframe y\n",
    "    # el número de pasos que queremos en nuesrto intervalo\n",
    "    index = np.arange(0, len(df), steps) #Creamos un array en donde van a estar los índices que vamos a usar para seleccionar los elementos,\n",
    "    #según los pasos que nosotros le introduzcamos cuando llamemos a la función\n",
    "    sampleo_sistematico = df.iloc[index]\n",
    "    return sampleo_sistematico\n",
    "\n",
    "sampleo_sistematico_3 = sampleo_sistematico(df, 3)"
   ]
  },
  {
   "attachments": {},
   "cell_type": "markdown",
   "metadata": {},
   "source": [
    "### Muestro estratificado\n",
    "\n",
    "- Escogemos unos valores por segmentos exclusivos y homogéneos\n",
    "- Después escogemos unos valores aleatorios dentro de estos segmentos"
   ]
  },
  {
   "cell_type": "code",
   "execution_count": null,
   "metadata": {},
   "outputs": [],
   "source": []
  }
 ],
 "metadata": {
  "kernelspec": {
   "display_name": "Python 3",
   "language": "python",
   "name": "python3"
  },
  "language_info": {
   "codemirror_mode": {
    "name": "ipython",
    "version": 3
   },
   "file_extension": ".py",
   "mimetype": "text/x-python",
   "name": "python",
   "nbconvert_exporter": "python",
   "pygments_lexer": "ipython3",
   "version": "3.11.2"
  },
  "orig_nbformat": 4
 },
 "nbformat": 4,
 "nbformat_minor": 2
}
